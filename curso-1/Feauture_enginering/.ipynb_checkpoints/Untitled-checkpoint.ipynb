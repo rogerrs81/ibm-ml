{
 "cells": [
  {
   "cell_type": "code",
   "execution_count": null,
   "id": "2115d0c0",
   "metadata": {},
   "outputs": [],
   "source": [
    "\n",
    "from pyspark.sql.functions import col\n",
    "from pyspark.sql import SparkSession\n",
    "\n",
    "spark = SparkSession.builder \\\n",
    "    .appName(\"Understanding Interaction and Polynomial Features\") \\\n",
    "    .getOrCreate()\n",
    "# Sample DataFrame\n",
    "data = [(20,), (30,), (40,), (50,)]\n",
    "columns = [\"Age\"]\n",
    "\n",
    "df = spark.createDataFrame(data, columns)\n",
    "\n",
    "# Create Polynomial Feature: Age_Squared = Age * Age\n",
    "df_poly = df.withColumn(\"Age_Squared\", col(\"Age\") ** 2)\n",
    "\n",
    "df_poly.show()"
   ]
  },
  {
   "cell_type": "code",
   "execution_count": null,
   "id": "65cb9809",
   "metadata": {},
   "outputs": [],
   "source": []
  }
 ],
 "metadata": {
  "kernelspec": {
   "display_name": "Python 3 (ipykernel)",
   "language": "python",
   "name": "python3"
  },
  "language_info": {
   "codemirror_mode": {
    "name": "ipython",
    "version": 3
   },
   "file_extension": ".py",
   "mimetype": "text/x-python",
   "name": "python",
   "nbconvert_exporter": "python",
   "pygments_lexer": "ipython3",
   "version": "3.8.2"
  }
 },
 "nbformat": 4,
 "nbformat_minor": 5
}
